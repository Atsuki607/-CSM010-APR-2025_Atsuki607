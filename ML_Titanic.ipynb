{
 "cells": [
  {
   "cell_type": "code",
   "execution_count": 1,
   "id": "50395787",
   "metadata": {},
   "outputs": [],
   "source": [
    "# import necessary modules\n",
    "import pandas as pd\n",
    "from sklearn.model_selection import train_test_split\n",
    "from sklearn.feature_selection import SelectKBest, chi2\n",
    "from sklearn.preprocessing import LabelEncoder\n",
    "from sklearn.tree import DecisionTreeClassifier\n",
    "from sklearn.metrics import accuracy_score\n",
    "from sklearn.model_selection import cross_val_score\n",
    "from sklearn.metrics import confusion_matrix, classification_report\n",
    "from sklearn.linear_model import LogisticRegression\n",
    "from sklearn.svm import SVC\n",
    "from sklearn.ensemble import RandomForestClassifier\n"
   ]
  },
  {
   "cell_type": "code",
   "execution_count": 2,
   "id": "d578127e",
   "metadata": {},
   "outputs": [
    {
     "name": "stdout",
     "output_type": "stream",
     "text": [
      "   PassengerId  Survived  Pclass  ...     Fare Cabin  Embarked\n",
      "0            1         0       3  ...   7.2500   NaN         S\n",
      "1            2         1       1  ...  71.2833   C85         C\n",
      "2            3         1       3  ...   7.9250   NaN         S\n",
      "3            4         1       1  ...  53.1000  C123         S\n",
      "4            5         0       3  ...   8.0500   NaN         S\n",
      "\n",
      "[5 rows x 12 columns]\n"
     ]
    }
   ],
   "source": [
    "# download Titanic dataset\n",
    "# use train.csv as whole dataset(train and test)\n",
    "data = pd.read_csv(\"./titanic/train.csv\")\n",
    "\n",
    "# check what the dataset looks like\n",
    "print(data.head())"
   ]
  },
  {
   "cell_type": "code",
   "execution_count": 3,
   "id": "e66af578",
   "metadata": {},
   "outputs": [],
   "source": [
    "# preprocessing\n",
    "# drop PassengerID (bacause it's just a ID, which doesn't explain each passenger's feature)\n",
    "# drop \"Name\" because it is string data that doesn't contribute to prediction without further processing \n",
    "# drop \"Cabin\" because it has many missing values and is difficult to impute\n",
    "# drop 'Ticket' because it is just random numbers of tickets\n",
    "data = data.drop(['PassengerId','Name','Cabin', 'Ticket'],axis=1)\n",
    "\n",
    "\n",
    "\n"
   ]
  },
  {
   "cell_type": "code",
   "execution_count": 4,
   "id": "9c8e65cc",
   "metadata": {},
   "outputs": [],
   "source": [
    "# separate features and target variable\n",
    "X = data.drop(columns=['Survived'])\n",
    "Y = data['Survived']\n"
   ]
  },
  {
   "cell_type": "code",
   "execution_count": 5,
   "id": "2f6b2ba3",
   "metadata": {},
   "outputs": [],
   "source": [
    "# encode category values\n",
    "catCols = ['Sex', 'Embarked']\n",
    "\n",
    "# I serched how to use LabelEncoder on ChatGPT\n",
    "le = LabelEncoder()\n",
    "for col in catCols:\n",
    "    X[col] = le.fit_transform(X[col])"
   ]
  },
  {
   "cell_type": "code",
   "execution_count": 6,
   "id": "0ecc5f3d",
   "metadata": {},
   "outputs": [],
   "source": [
    "# train_test_split\n",
    "seed = 7\n",
    "X_train, X_test, Y_train, Y_test = train_test_split(X, Y, test_size=0.33, random_state=seed)\n"
   ]
  },
  {
   "cell_type": "code",
   "execution_count": 7,
   "id": "d497b057",
   "metadata": {},
   "outputs": [],
   "source": [
    "# fill missing values in 'Age' with average value\n",
    "mean_age = X_train['Age'].mean()\n",
    "X_train['Age'] = X_train['Age'].fillna(mean_age)\n",
    "X_test['Age'] = X_test['Age'].fillna(mean_age)\n",
    "\n"
   ]
  },
  {
   "cell_type": "code",
   "execution_count": 8,
   "id": "bda96df6",
   "metadata": {},
   "outputs": [
    {
     "name": "stdout",
     "output_type": "stream",
     "text": [
      "[1.84560548e+01 6.89950162e+01 3.60447369e+01 1.39522532e+00\n",
      " 1.23627560e+01 2.92818330e+03 7.91119791e+00]\n"
     ]
    }
   ],
   "source": [
    "test = SelectKBest(score_func=chi2, k=5)\n",
    "test.fit(X_train, Y_train)\n",
    "\n",
    "print(test.scores_)\n",
    "X_train = test.transform(X_train)\n",
    "X_test = test.transform(X_test)\n",
    "\n",
    "#I searched how to get names of transformed columns on ChatGPT \n",
    "selected_columns = X.columns[test.get_support()]"
   ]
  },
  {
   "cell_type": "code",
   "execution_count": 9,
   "id": "4395d66d",
   "metadata": {},
   "outputs": [],
   "source": [
    "# construct model\n",
    "# model = DecisionTreeClassifier(random_state=seed)\n",
    "# model.fit(X_train, Y_train)\n",
    "\n",
    "models = {\n",
    "    \"decision tree classifier\" : DecisionTreeClassifier(random_state=seed),\n",
    "    \"random forest classifier\" : RandomForestClassifier(random_state=seed),\n",
    "    \"logistic regression\" :LogisticRegression(random_state=seed),\n",
    "    \"SVM\" : SVC(random_state=seed)\n",
    "}\n"
   ]
  },
  {
   "cell_type": "markdown",
   "id": "8a72b952",
   "metadata": {},
   "source": []
  },
  {
   "cell_type": "code",
   "execution_count": null,
   "id": "2c04680b",
   "metadata": {},
   "outputs": [
    {
     "ename": "NameError",
     "evalue": "name 'model' is not defined",
     "output_type": "error",
     "traceback": [
      "\u001b[31m---------------------------------------------------------------------------\u001b[39m",
      "\u001b[31mNameError\u001b[39m                                 Traceback (most recent call last)",
      "\u001b[36mCell\u001b[39m\u001b[36m \u001b[39m\u001b[32mIn[10]\u001b[39m\u001b[32m, line 1\u001b[39m\n\u001b[32m----> \u001b[39m\u001b[32m1\u001b[39m \u001b[38;5;28;01mfor\u001b[39;00m feature, importance \u001b[38;5;129;01min\u001b[39;00m \u001b[38;5;28mzip\u001b[39m(selected_columns, \u001b[43mmodel\u001b[49m.feature_importances_):\n\u001b[32m      2\u001b[39m     \u001b[38;5;28mprint\u001b[39m(\u001b[33mf\u001b[39m\u001b[33m\"\u001b[39m\u001b[38;5;132;01m{\u001b[39;00mfeature\u001b[38;5;132;01m}\u001b[39;00m\u001b[33m : \u001b[39m\u001b[38;5;132;01m{\u001b[39;00mimportance\u001b[38;5;132;01m}\u001b[39;00m\u001b[33m\"\u001b[39m)\n\u001b[32m      4\u001b[39m \u001b[38;5;66;03m# As a result of the feature_importances_, 'Sex' is the most important feature (0.33)\u001b[39;00m\n",
      "\u001b[31mNameError\u001b[39m: name 'model' is not defined"
     ]
    }
   ],
   "source": [
    "# for feature, importance in zip(selected_columns, model.feature_importances_):\n",
    "#     print(f\"{feature} : {importance}\")\n",
    "\n",
    "# As a result of the feature_importances_, 'Sex' is the most important feature (0.33)"
   ]
  },
  {
   "cell_type": "code",
   "execution_count": null,
   "id": "412c07a2",
   "metadata": {},
   "outputs": [
    {
     "name": "stdout",
     "output_type": "stream",
     "text": [
      "0.7423728813559322\n"
     ]
    }
   ],
   "source": [
    "y_pred = model.predict(X_test)\n",
    "accuracy = accuracy_score(Y_test, y_pred)\n",
    "\n",
    "print(accuracy)\n",
    "\n"
   ]
  },
  {
   "cell_type": "code",
   "execution_count": null,
   "id": "a2ddc1e8",
   "metadata": {},
   "outputs": [
    {
     "name": "stdout",
     "output_type": "stream",
     "text": [
      "[[146  30]\n",
      " [ 46  73]]\n",
      "              precision    recall  f1-score   support\n",
      "\n",
      "           0       0.76      0.83      0.79       176\n",
      "           1       0.71      0.61      0.66       119\n",
      "\n",
      "    accuracy                           0.74       295\n",
      "   macro avg       0.73      0.72      0.73       295\n",
      "weighted avg       0.74      0.74      0.74       295\n",
      "\n"
     ]
    }
   ],
   "source": [
    "# confusion matrix\n",
    "cm = confusion_matrix(Y_test, y_pred)\n",
    "\n",
    "# classification report\n",
    "report = classification_report(Y_test, y_pred)\n",
    "\n",
    "print(cm)\n",
    "print(report)\n"
   ]
  }
 ],
 "metadata": {
  "kernelspec": {
   "display_name": "ML-venv",
   "language": "python",
   "name": "python3"
  },
  "language_info": {
   "codemirror_mode": {
    "name": "ipython",
    "version": 3
   },
   "file_extension": ".py",
   "mimetype": "text/x-python",
   "name": "python",
   "nbconvert_exporter": "python",
   "pygments_lexer": "ipython3",
   "version": "3.12.10"
  }
 },
 "nbformat": 4,
 "nbformat_minor": 5
}
